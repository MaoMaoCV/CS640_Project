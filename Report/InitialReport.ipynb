{
  "nbformat": 4,
  "nbformat_minor": 0,
  "metadata": {
    "colab": {
      "provenance": []
    },
    "kernelspec": {
      "name": "python3",
      "display_name": "Python 3"
    },
    "language_info": {
      "name": "python"
    }
  },
  "cells": [
    {
      "cell_type": "markdown",
      "source": [
        "# CS640 Project Report\n",
        "\n",
        "This is a template for your competition report. Complete the secitons below and submit a PDF file to Gradescope. One submission per group will suffice.\n",
        "\n",
        "## Instructions\n",
        "\n",
        "### General Instructions\n",
        "In an ipython notebook, to run code in a cell or to render [Markdown](https://en.wikipedia.org/wiki/Markdown)+[LaTeX](https://en.wikipedia.org/wiki/LaTeX) press `Ctrl+Enter` or `[>|]`(like \"play\") button above. To edit any code or text cell (double) click on its content. To change cell type, choose \"Markdown\" or \"Code\" in the drop-down menu above.\n",
        "\n",
        "Most of the written questions are followed by a cell for you enter your answers. If not, please insert one. Your answers and the questions should **not** be in the same cell.\n",
        "\n",
        "### Instructions on Math\n",
        "Some questions require you to enter math expressions. To enter your solutions, put down your derivations into the corresponding cells below using LaTeX. Show all steps when proving statements. If you are not familiar with LaTeX, you should look at some tutorials and at the examples listed below between \\$..\\$.\n",
        "\n",
        "Alternatively, you can scan your work from paper and insert the image(s) in a text cell.\n",
        "\n",
        "## Submission\n",
        "Once you are ready, save the notebook as PDF file (File -> Print -> Save as PDF) and submit to Gradescope. Make sure all outputs are visible.\n"
      ],
      "metadata": {
        "id": "ChbMqwp7pBOz"
      }
    },
    {
      "cell_type": "markdown",
      "source": [
        "## Section 0: Basic Information\n",
        "Please input your members' names in the next block."
      ],
      "metadata": {
        "id": "WeCHd7OIpqDD"
      }
    },
    {
      "cell_type": "markdown",
      "source": [
        ">Ziye Chen, Mao Mao, Xi Chen"
      ],
      "metadata": {
        "id": "xjiLI_0OpvZN"
      }
    },
    {
      "cell_type": "markdown",
      "source": [
        "---\n",
        "## Section 1: Data Analysis\n",
        "\n",
        "All research experiments start from basic level of data analysis. In this section, describe what you learn from the training data. Your answer may inlcude: what are the labels and their distribution, what do the data look like, and whatever observation that is interesting. Creating figures to help illustration is strongly recommended.\n",
        "\n",
        "Feel free to create text and code cells below.\n",
        "\n"
      ],
      "metadata": {
        "id": "Y_h01h7vp2M0"
      }
    },
    {
      "cell_type": "markdown",
      "source": [],
      "metadata": {
        "id": "oecKd2A7muu8"
      }
    },
    {
      "cell_type": "markdown",
      "source": [
        "1. 把 notebook 里的一些 visualization 截图上传到 markdown cell  \n",
        "2. 将图中的数据特征简单描述"
      ],
      "metadata": {
        "id": "RcFqDnisU_eB"
      }
    },
    {
      "cell_type": "markdown",
      "source": [
        "---\n",
        "## Section 2: Methods\n",
        "\n",
        "You are asked to experiment with different approaches which includes preprocessing and classifying. In this section, describe these approaches. In particular, for each of them,\n",
        "\n",
        "1. if you design the approach from scratch, explain in detail, and discuss the source that inspires you if there is any;\n",
        "2. if you build the approach based on a pre-trained model (e.g., ResNet) or a posted solution on Kaggle, cite the source (the paper and the link), summarize the original model in your own words, and describe what modification you make if there is any.\n",
        "\n",
        "Write your answer in the following blocks. You can add more if you like."
      ],
      "metadata": {
        "id": "vLQHWUoRufdJ"
      }
    },
    {
      "cell_type": "markdown",
      "source": [
        "### Approach 1\n",
        "EfficientNet B0 is a convolutional neural network architecture that stands out for its balance of accuracy and computational efficiency. It's part of the EfficientNet family, designed using a novel scaling method that uniformly scales all dimensions of the network (depth, width, and resolution) with a set of fixed scaling coefficients. This approach allows EfficientNet B0 to achieve higher accuracy with fewer parameters and less computational power compared to other models of similar performance. It's widely used in various image processing tasks due to its effectiveness and efficiency."
      ],
      "metadata": {
        "id": "YZe9ok23waqE"
      }
    },
    {
      "cell_type": "markdown",
      "source": [
        "### Approach 2"
      ],
      "metadata": {
        "id": "EF_Jq-iwONOx"
      }
    },
    {
      "cell_type": "markdown",
      "source": [
        "### Approach 3"
      ],
      "metadata": {
        "id": "WKISv0VxOO7j"
      }
    },
    {
      "cell_type": "markdown",
      "source": [
        "## Section 3: Experiments and Results\n",
        "\n",
        "Describe the experiments you have conducted and the corresponding performance results (in terms of confusion matrix, accuracy, F1, etc.).\n",
        "\n",
        "When showing the performance results, organze them in a clean way. For example, you can show the results one approach at a time and keep the outputs in a consistent format across the approaches. Do **not** simply list numbers or figures."
      ],
      "metadata": {
        "id": "GjV1zwnCOhvt"
      }
    },
    {
      "cell_type": "markdown",
      "source": [
        "**Answer**"
      ],
      "metadata": {
        "id": "jfPkw6xqY9Ag"
      }
    },
    {
      "cell_type": "markdown",
      "source": [
        "## Section 4: Discussions\n",
        "\n",
        "Discuss the results in words. For example, you can compare the results, show some interesting discovery, propose insights, etc.. Using a combination of figures and words is recommended."
      ],
      "metadata": {
        "id": "YlXpC97oZOEv"
      }
    },
    {
      "cell_type": "markdown",
      "source": [
        "**Answer**\n",
        "Data Augmentation Techniques: The pipeline employs advanced data augmentation techniques like hue, saturation, value adjustments, and shift scale rotate. These techniques are particularly effective for image data, enhancing the model's ability to generalize from the training data to unseen data.\n",
        "Custom Model Architecture: The use of a custom model architecture, potentially based on EfficientNet, integrated with a Generalized Mean (GeM) pooling layer, is indicative of a sophisticated approach tailored to the specific characteristics of the dataset, likely histopathology images in this case.\n",
        "Robust Training Strategy: The implementation of a stratified k-fold cross-validation and the use of a dynamic learning rate scheduler (CosineAnnealingLR) demonstrate a robust training strategy. This approach is beneficial for maximizing the model's performance and ensuring its reliability.\n",
        "Loss Function: The use of CrossEntropyLoss as the loss function is particularly suitable for a multi-class classification problem, suggesting that the model is designed to classify multiple subtypes of ovarian cancer.\n",
        "Reproducibility and Performance Monitoring: The pipeline includes measures for reproducibility (setting random seed) and performance monitoring (tracking loss and accuracy), which are crucial for the development of a reliable and effective machine learning model."
      ],
      "metadata": {
        "id": "cTMesYuTZmPG"
      }
    },
    {
      "cell_type": "markdown",
      "source": [
        "## Section 4: Conclusion\n",
        "\n",
        "Point out your chosen approach for the evaluation on the test data. Also show the hyper-parameter values. You can answer with a code cell."
      ],
      "metadata": {
        "id": "Dvlc3kZ8Zmyg"
      }
    },
    {
      "cell_type": "markdown",
      "source": [
        "**Answer**"
      ],
      "metadata": {
        "id": "76YWCyW-Z-yW"
      }
    }
  ]
}